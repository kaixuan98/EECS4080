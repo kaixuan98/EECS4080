{
 "cells": [
  {
   "cell_type": "code",
   "execution_count": 27,
   "metadata": {},
   "outputs": [],
   "source": [
    "import pandas as pd\n",
    "import matplotlib.pyplot as plt\n",
    "import json\n",
    "import ast"
   ]
  },
  {
   "cell_type": "markdown",
   "metadata": {},
   "source": [
    "# Clean data without location"
   ]
  },
  {
   "cell_type": "code",
   "execution_count": 28,
   "metadata": {},
   "outputs": [
    {
     "data": {
      "text/plain": [
       "10800"
      ]
     },
     "execution_count": 28,
     "metadata": {},
     "output_type": "execute_result"
    }
   ],
   "source": [
    "df = pd.read_csv('../data_cleaning/clean_data.csv')\n",
    "len(df)"
   ]
  },
  {
   "cell_type": "code",
   "execution_count": 29,
   "metadata": {},
   "outputs": [],
   "source": [
    "# read stanza\n",
    "stanza_label = []\n",
    "with open('../model/stanzaResult.txt', 'r') as f:\n",
    "    for line in f:\n",
    "        data = json.loads(line)\n",
    "        stanza_label.append(data.get('label'))\n"
   ]
  },
  {
   "cell_type": "code",
   "execution_count": 30,
   "metadata": {},
   "outputs": [],
   "source": [
    "# read cadiffNlp label from huggingface\n",
    "cardiff_label = []\n",
    "cardiff_score = []\n",
    "with open('../model/cardiffResult.txt', 'r') as f:\n",
    "    for line in f:\n",
    "        line = line.strip()\n",
    "        data = ast.literal_eval(line)\n",
    "        if data.get('label') == 'LABEL_0': \n",
    "            label = 0\n",
    "        elif data.get('label') == 'LABEL_1':\n",
    "            label = 1 \n",
    "        else:\n",
    "            label = 2 \n",
    "        cardiff_label.append(label)\n",
    "        cardiff_score.append(data.get('score'))"
   ]
  },
  {
   "cell_type": "code",
   "execution_count": 31,
   "metadata": {},
   "outputs": [],
   "source": [
    "df['cardiff_label'] = cardiff_label\n",
    "df['cardiff_score'] = cardiff_score"
   ]
  },
  {
   "cell_type": "code",
   "execution_count": 32,
   "metadata": {},
   "outputs": [
    {
     "data": {
      "text/html": [
       "<div>\n",
       "<style scoped>\n",
       "    .dataframe tbody tr th:only-of-type {\n",
       "        vertical-align: middle;\n",
       "    }\n",
       "\n",
       "    .dataframe tbody tr th {\n",
       "        vertical-align: top;\n",
       "    }\n",
       "\n",
       "    .dataframe thead th {\n",
       "        text-align: right;\n",
       "    }\n",
       "</style>\n",
       "<table border=\"1\" class=\"dataframe\">\n",
       "  <thead>\n",
       "    <tr style=\"text-align: right;\">\n",
       "      <th></th>\n",
       "      <th>tweetId</th>\n",
       "      <th>author_id</th>\n",
       "      <th>tweet</th>\n",
       "      <th>lang</th>\n",
       "      <th>created_at</th>\n",
       "      <th>clean_tweet</th>\n",
       "      <th>cardiff_label</th>\n",
       "      <th>cardiff_score</th>\n",
       "    </tr>\n",
       "  </thead>\n",
       "  <tbody>\n",
       "    <tr>\n",
       "      <th>0</th>\n",
       "      <td>1490905225930190849</td>\n",
       "      <td>2578185314</td>\n",
       "      <td>In 2021, Reliance acquired @faradion_uk Ltd, l...</td>\n",
       "      <td>en</td>\n",
       "      <td>2022-02-08 04:28:00+00:00</td>\n",
       "      <td>2021 reliance acquired ltd leading global sodi...</td>\n",
       "      <td>2</td>\n",
       "      <td>0.791140</td>\n",
       "    </tr>\n",
       "    <tr>\n",
       "      <th>1</th>\n",
       "      <td>1490905219286245376</td>\n",
       "      <td>291609629</td>\n",
       "      <td>Hong Kong to tighten social-distancing rules, ...</td>\n",
       "      <td>en</td>\n",
       "      <td>2022-02-08 04:27:58+00:00</td>\n",
       "      <td>hong kong tighten social distancing rules stan...</td>\n",
       "      <td>1</td>\n",
       "      <td>0.809638</td>\n",
       "    </tr>\n",
       "    <tr>\n",
       "      <th>2</th>\n",
       "      <td>1490905197375553537</td>\n",
       "      <td>1320755164827938816</td>\n",
       "      <td>you would know if someone lie, why those peopl...</td>\n",
       "      <td>en</td>\n",
       "      <td>2022-02-08 04:27:53+00:00</td>\n",
       "      <td>you would know if someone lie why those people...</td>\n",
       "      <td>0</td>\n",
       "      <td>0.719635</td>\n",
       "    </tr>\n",
       "    <tr>\n",
       "      <th>3</th>\n",
       "      <td>1490905197123620864</td>\n",
       "      <td>983016607</td>\n",
       "      <td>Doing. Experience and environment may shape yo...</td>\n",
       "      <td>en</td>\n",
       "      <td>2022-02-08 04:27:53+00:00</td>\n",
       "      <td>doing experience environment may shape you nam...</td>\n",
       "      <td>1</td>\n",
       "      <td>0.877347</td>\n",
       "    </tr>\n",
       "    <tr>\n",
       "      <th>4</th>\n",
       "      <td>1490905176953454597</td>\n",
       "      <td>2675645600</td>\n",
       "      <td>@jenhada @airallianceHOU How does the communit...</td>\n",
       "      <td>en</td>\n",
       "      <td>2022-02-08 04:27:48+00:00</td>\n",
       "      <td>how does community hold valero accountable tox...</td>\n",
       "      <td>0</td>\n",
       "      <td>0.871542</td>\n",
       "    </tr>\n",
       "  </tbody>\n",
       "</table>\n",
       "</div>"
      ],
      "text/plain": [
       "               tweetId            author_id  \\\n",
       "0  1490905225930190849           2578185314   \n",
       "1  1490905219286245376            291609629   \n",
       "2  1490905197375553537  1320755164827938816   \n",
       "3  1490905197123620864            983016607   \n",
       "4  1490905176953454597           2675645600   \n",
       "\n",
       "                                               tweet lang  \\\n",
       "0  In 2021, Reliance acquired @faradion_uk Ltd, l...   en   \n",
       "1  Hong Kong to tighten social-distancing rules, ...   en   \n",
       "2  you would know if someone lie, why those peopl...   en   \n",
       "3  Doing. Experience and environment may shape yo...   en   \n",
       "4  @jenhada @airallianceHOU How does the communit...   en   \n",
       "\n",
       "                  created_at  \\\n",
       "0  2022-02-08 04:28:00+00:00   \n",
       "1  2022-02-08 04:27:58+00:00   \n",
       "2  2022-02-08 04:27:53+00:00   \n",
       "3  2022-02-08 04:27:53+00:00   \n",
       "4  2022-02-08 04:27:48+00:00   \n",
       "\n",
       "                                         clean_tweet  cardiff_label  \\\n",
       "0  2021 reliance acquired ltd leading global sodi...              2   \n",
       "1  hong kong tighten social distancing rules stan...              1   \n",
       "2  you would know if someone lie why those people...              0   \n",
       "3  doing experience environment may shape you nam...              1   \n",
       "4  how does community hold valero accountable tox...              0   \n",
       "\n",
       "   cardiff_score  \n",
       "0       0.791140  \n",
       "1       0.809638  \n",
       "2       0.719635  \n",
       "3       0.877347  \n",
       "4       0.871542  "
      ]
     },
     "execution_count": 32,
     "metadata": {},
     "output_type": "execute_result"
    }
   ],
   "source": [
    "df.head()"
   ]
  },
  {
   "cell_type": "code",
   "execution_count": 33,
   "metadata": {},
   "outputs": [
    {
     "name": "stdout",
     "output_type": "stream",
     "text": [
      "<class 'pandas.core.frame.DataFrame'>\n",
      "RangeIndex: 10800 entries, 0 to 10799\n",
      "Data columns (total 8 columns):\n",
      " #   Column         Non-Null Count  Dtype  \n",
      "---  ------         --------------  -----  \n",
      " 0   tweetId        10800 non-null  int64  \n",
      " 1   author_id      10800 non-null  int64  \n",
      " 2   tweet          10800 non-null  object \n",
      " 3   lang           10800 non-null  object \n",
      " 4   created_at     10800 non-null  object \n",
      " 5   clean_tweet    10800 non-null  object \n",
      " 6   cardiff_label  10800 non-null  int64  \n",
      " 7   cardiff_score  10800 non-null  float64\n",
      "dtypes: float64(1), int64(3), object(4)\n",
      "memory usage: 675.1+ KB\n"
     ]
    }
   ],
   "source": [
    "df.info()"
   ]
  },
  {
   "cell_type": "code",
   "execution_count": 34,
   "metadata": {},
   "outputs": [],
   "source": [
    "# frequency distribution of the labels\n",
    "df['created_at'] = pd.to_datetime(df['created_at'])\n",
    "df['created_at'] = df['created_at'].dt.strftime('%m/%d/%Y')\n"
   ]
  },
  {
   "cell_type": "code",
   "execution_count": 35,
   "metadata": {},
   "outputs": [
    {
     "name": "stdout",
     "output_type": "stream",
     "text": [
      "<class 'pandas.core.frame.DataFrame'>\n",
      "RangeIndex: 10800 entries, 0 to 10799\n",
      "Data columns (total 8 columns):\n",
      " #   Column         Non-Null Count  Dtype  \n",
      "---  ------         --------------  -----  \n",
      " 0   tweetId        10800 non-null  int64  \n",
      " 1   author_id      10800 non-null  int64  \n",
      " 2   tweet          10800 non-null  object \n",
      " 3   lang           10800 non-null  object \n",
      " 4   created_at     10800 non-null  object \n",
      " 5   clean_tweet    10800 non-null  object \n",
      " 6   cardiff_label  10800 non-null  int64  \n",
      " 7   cardiff_score  10800 non-null  float64\n",
      "dtypes: float64(1), int64(3), object(4)\n",
      "memory usage: 675.1+ KB\n"
     ]
    }
   ],
   "source": [
    "df.info()\n"
   ]
  },
  {
   "cell_type": "code",
   "execution_count": 36,
   "metadata": {},
   "outputs": [
    {
     "data": {
      "text/plain": [
       "array(['02/08/2022', '02/07/2022', '02/19/2022', '02/22/2022'],\n",
       "      dtype=object)"
      ]
     },
     "execution_count": 36,
     "metadata": {},
     "output_type": "execute_result"
    }
   ],
   "source": [
    "# plt based on time\n",
    "df['created_at'].unique()"
   ]
  },
  {
   "cell_type": "code",
   "execution_count": 39,
   "metadata": {},
   "outputs": [
    {
     "data": {
      "text/plain": [
       "created_at\n",
       "02/07/2022    3179\n",
       "02/08/2022    6821\n",
       "02/19/2022     100\n",
       "02/22/2022     700\n",
       "Name: tweetId, dtype: int64"
      ]
     },
     "execution_count": 39,
     "metadata": {},
     "output_type": "execute_result"
    }
   ],
   "source": [
    "df.groupby(['created_at'])['tweetId'].count()"
   ]
  },
  {
   "cell_type": "code",
   "execution_count": 42,
   "metadata": {},
   "outputs": [
    {
     "data": {
      "text/plain": [
       "created_at\n",
       "02/07/2022    3179\n",
       "02/08/2022    6821\n",
       "Name: tweetId, dtype: int64"
      ]
     },
     "execution_count": 42,
     "metadata": {},
     "output_type": "execute_result"
    }
   ],
   "source": [
    "two_days_tweets_df = df.loc[(df['created_at'] == '02/07/2022') | (df['created_at'] == '02/08/2022')]\n",
    "two_days_tweets_df.groupby(['created_at'])['tweetId'].count()"
   ]
  },
  {
   "cell_type": "code",
   "execution_count": 43,
   "metadata": {},
   "outputs": [
    {
     "data": {
      "text/plain": [
       "cardiff_label\n",
       "0    2971\n",
       "1    4013\n",
       "2    3016\n",
       "Name: cardiff_label, dtype: int64"
      ]
     },
     "execution_count": 43,
     "metadata": {},
     "output_type": "execute_result"
    }
   ],
   "source": [
    "two_days_tweets_df.groupby(['cardiff_label'])['cardiff_label'].count()"
   ]
  },
  {
   "cell_type": "code",
   "execution_count": 47,
   "metadata": {},
   "outputs": [
    {
     "data": {
      "text/plain": [
       "[2971, 4013, 3016]"
      ]
     },
     "execution_count": 47,
     "metadata": {},
     "output_type": "execute_result"
    }
   ],
   "source": [
    "list(two_days_tweets_df.groupby(['cardiff_label'])['cardiff_label'].count())"
   ]
  },
  {
   "cell_type": "code",
   "execution_count": 56,
   "metadata": {},
   "outputs": [
    {
     "data": {
      "image/png": "[encoded data removed]",
      "text/plain": [
       "<Figure size 720x360 with 1 Axes>"
      ]
     },
     "metadata": {},
     "output_type": "display_data"
    }
   ],
   "source": [
    "plt.style.use('fivethirtyeight')\n",
    "\n",
    "labels = [\"Negative\", \"Neutral\", \"Positive\"]\n",
    "values = list(two_days_tweets_df.groupby(['cardiff_label'])['cardiff_label'].count())\n",
    "fig = plt.figure(figsize = (10, 5))\n",
    "\n",
    "plt.bar(labels, values,width = 0.5)\n",
    "plt.xlabel(\"Sentiment Label\")\n",
    "plt.ylabel(\"Frequency of each label\")\n",
    "plt.title(\"Tweets in a span of 2 days(Feb 8 and 7) \")\n",
    "plt.show()"
   ]
  },
  {
   "cell_type": "markdown",
   "metadata": {},
   "source": [
    "# Clean data with location"
   ]
  },
  {
   "cell_type": "code",
   "execution_count": 63,
   "metadata": {},
   "outputs": [],
   "source": [
    "loc_df = pd.read_csv('../data_cleaning/clean_testing_all_lang.csv')"
   ]
  },
  {
   "cell_type": "code",
   "execution_count": 64,
   "metadata": {},
   "outputs": [],
   "source": [
    "# read cadiffNlp label from huggingface\n",
    "cardiff_label = []\n",
    "cardiff_score = []\n",
    "with open('../model/cardiffResult_all.txt', 'r') as f:\n",
    "    for line in f:\n",
    "        line = line.strip()\n",
    "        data = ast.literal_eval(line)\n",
    "        if data.get('label') == 'LABEL_0': \n",
    "            label = 0\n",
    "        elif data.get('label') == 'LABEL_1':\n",
    "            label = 1 \n",
    "        else:\n",
    "            label = 2 \n",
    "        cardiff_label.append(label)\n",
    "        cardiff_score.append(data.get('score'))"
   ]
  },
  {
   "cell_type": "code",
   "execution_count": 65,
   "metadata": {},
   "outputs": [],
   "source": [
    "loc_df['cardiff_label'] = cardiff_label\n",
    "loc_df['cardiff_score'] = cardiff_score"
   ]
  },
  {
   "cell_type": "code",
   "execution_count": 66,
   "metadata": {},
   "outputs": [
    {
     "data": {
      "text/html": [
       "<div>\n",
       "<style scoped>\n",
       "    .dataframe tbody tr th:only-of-type {\n",
       "        vertical-align: middle;\n",
       "    }\n",
       "\n",
       "    .dataframe tbody tr th {\n",
       "        vertical-align: top;\n",
       "    }\n",
       "\n",
       "    .dataframe thead th {\n",
       "        text-align: right;\n",
       "    }\n",
       "</style>\n",
       "<table border=\"1\" class=\"dataframe\">\n",
       "  <thead>\n",
       "    <tr style=\"text-align: right;\">\n",
       "      <th></th>\n",
       "      <th>Unnamed: 0</th>\n",
       "      <th>tweetId</th>\n",
       "      <th>author_id</th>\n",
       "      <th>tweet</th>\n",
       "      <th>lang</th>\n",
       "      <th>created_at</th>\n",
       "      <th>clean_tweet</th>\n",
       "      <th>user_loc</th>\n",
       "      <th>extracted_user_loc</th>\n",
       "      <th>location</th>\n",
       "      <th>coordinates</th>\n",
       "      <th>country</th>\n",
       "      <th>cardiff_label</th>\n",
       "      <th>cardiff_score</th>\n",
       "    </tr>\n",
       "  </thead>\n",
       "  <tbody>\n",
       "    <tr>\n",
       "      <th>0</th>\n",
       "      <td>1</td>\n",
       "      <td>1490905219286245376</td>\n",
       "      <td>291609629</td>\n",
       "      <td>Hong Kong to tighten social-distancing rules, ...</td>\n",
       "      <td>en</td>\n",
       "      <td>2022-02-08 04:27:58+00:00</td>\n",
       "      <td>hong kong tighten social distancing rules stan...</td>\n",
       "      <td>Singapore</td>\n",
       "      <td>Singapore</td>\n",
       "      <td>Singapore</td>\n",
       "      <td>(1.357107, 103.8194992, 0.0)</td>\n",
       "      <td>Singapore</td>\n",
       "      <td>1</td>\n",
       "      <td>0.809638</td>\n",
       "    </tr>\n",
       "    <tr>\n",
       "      <th>1</th>\n",
       "      <td>3</td>\n",
       "      <td>1490905176953454597</td>\n",
       "      <td>2675645600</td>\n",
       "      <td>@jenhada @airallianceHOU How does the communit...</td>\n",
       "      <td>en</td>\n",
       "      <td>2022-02-08 04:27:48+00:00</td>\n",
       "      <td>how does community hold valero accountable tox...</td>\n",
       "      <td>Wonderland, Michigan</td>\n",
       "      <td>Michigan</td>\n",
       "      <td>Michigan, United States</td>\n",
       "      <td>(43.6211955, -84.6824346, 0.0)</td>\n",
       "      <td>United States</td>\n",
       "      <td>0</td>\n",
       "      <td>0.871542</td>\n",
       "    </tr>\n",
       "    <tr>\n",
       "      <th>2</th>\n",
       "      <td>4</td>\n",
       "      <td>1490905163321987073</td>\n",
       "      <td>829956505851998209</td>\n",
       "      <td>@AUThackeray is noise pollution not harmful fo...</td>\n",
       "      <td>en</td>\n",
       "      <td>2022-02-08 04:27:45+00:00</td>\n",
       "      <td>is noise pollution not harmful environment</td>\n",
       "      <td>Santa Cruz west</td>\n",
       "      <td>Santa Cruz</td>\n",
       "      <td>Santa Cruz de Tenerife, Canary Islands, 38004,...</td>\n",
       "      <td>(28.469648, -16.2540884, 0.0)</td>\n",
       "      <td>Spain</td>\n",
       "      <td>0</td>\n",
       "      <td>0.584587</td>\n",
       "    </tr>\n",
       "    <tr>\n",
       "      <th>3</th>\n",
       "      <td>5</td>\n",
       "      <td>1490905158313967618</td>\n",
       "      <td>402452107</td>\n",
       "      <td>Putting a drink in a fridge/freezer “cools” it...</td>\n",
       "      <td>en</td>\n",
       "      <td>2022-02-08 04:27:44+00:00</td>\n",
       "      <td>putting drink fridge freezer cools it down ess...</td>\n",
       "      <td>TX</td>\n",
       "      <td>NaN</td>\n",
       "      <td>None, Torino, Piemont, Italy</td>\n",
       "      <td>(44.933143, 7.540121, 0.0)</td>\n",
       "      <td>Italy</td>\n",
       "      <td>1</td>\n",
       "      <td>0.700610</td>\n",
       "    </tr>\n",
       "    <tr>\n",
       "      <th>4</th>\n",
       "      <td>11</td>\n",
       "      <td>1490905141805199367</td>\n",
       "      <td>1279647779753611264</td>\n",
       "      <td>we do know what NFTs are. They're called scams...</td>\n",
       "      <td>en</td>\n",
       "      <td>2022-02-08 04:27:40+00:00</td>\n",
       "      <td>we do know what nfts are theyre called scams t...</td>\n",
       "      <td>Ætheria</td>\n",
       "      <td>Ætheria</td>\n",
       "      <td>NaN</td>\n",
       "      <td>NaN</td>\n",
       "      <td>NaN</td>\n",
       "      <td>0</td>\n",
       "      <td>0.938378</td>\n",
       "    </tr>\n",
       "  </tbody>\n",
       "</table>\n",
       "</div>"
      ],
      "text/plain": [
       "   Unnamed: 0              tweetId            author_id  \\\n",
       "0           1  1490905219286245376            291609629   \n",
       "1           3  1490905176953454597           2675645600   \n",
       "2           4  1490905163321987073   829956505851998209   \n",
       "3           5  1490905158313967618            402452107   \n",
       "4          11  1490905141805199367  1279647779753611264   \n",
       "\n",
       "                                               tweet lang  \\\n",
       "0  Hong Kong to tighten social-distancing rules, ...   en   \n",
       "1  @jenhada @airallianceHOU How does the communit...   en   \n",
       "2  @AUThackeray is noise pollution not harmful fo...   en   \n",
       "3  Putting a drink in a fridge/freezer “cools” it...   en   \n",
       "4  we do know what NFTs are. They're called scams...   en   \n",
       "\n",
       "                  created_at  \\\n",
       "0  2022-02-08 04:27:58+00:00   \n",
       "1  2022-02-08 04:27:48+00:00   \n",
       "2  2022-02-08 04:27:45+00:00   \n",
       "3  2022-02-08 04:27:44+00:00   \n",
       "4  2022-02-08 04:27:40+00:00   \n",
       "\n",
       "                                         clean_tweet              user_loc  \\\n",
       "0  hong kong tighten social distancing rules stan...             Singapore   \n",
       "1  how does community hold valero accountable tox...  Wonderland, Michigan   \n",
       "2         is noise pollution not harmful environment       Santa Cruz west   \n",
       "3  putting drink fridge freezer cools it down ess...                    TX   \n",
       "4  we do know what nfts are theyre called scams t...               Ætheria   \n",
       "\n",
       "  extracted_user_loc                                           location  \\\n",
       "0          Singapore                                          Singapore   \n",
       "1           Michigan                            Michigan, United States   \n",
       "2         Santa Cruz  Santa Cruz de Tenerife, Canary Islands, 38004,...   \n",
       "3                NaN                       None, Torino, Piemont, Italy   \n",
       "4            Ætheria                                                NaN   \n",
       "\n",
       "                      coordinates         country  cardiff_label  \\\n",
       "0    (1.357107, 103.8194992, 0.0)       Singapore              1   \n",
       "1  (43.6211955, -84.6824346, 0.0)   United States              0   \n",
       "2   (28.469648, -16.2540884, 0.0)           Spain              0   \n",
       "3      (44.933143, 7.540121, 0.0)           Italy              1   \n",
       "4                             NaN             NaN              0   \n",
       "\n",
       "   cardiff_score  \n",
       "0       0.809638  \n",
       "1       0.871542  \n",
       "2       0.584587  \n",
       "3       0.700610  \n",
       "4       0.938378  "
      ]
     },
     "execution_count": 66,
     "metadata": {},
     "output_type": "execute_result"
    }
   ],
   "source": [
    "loc_df.head()"
   ]
  },
  {
   "cell_type": "code",
   "execution_count": 69,
   "metadata": {},
   "outputs": [
    {
     "data": {
      "text/plain": [
       "array(['Singapore', ' United States', ' Spain', ' Italy', nan,\n",
       "       'United States', 'Pakistan', 'Malta', 'India', 'New Zealand',\n",
       "       'Kenya', ' Canada', ' India', 'Canada', 'Fiji',\n",
       "       'United Arab Emirates', ' Netherlands', 'Albania',\n",
       "       ' United Kingdom', ' Australia', 'Indonesia', 'Belize',\n",
       "       'Australia', 'Qatar', ' Malaysia', ' Portugal', 'Nigeria',\n",
       "       'South Africa', ' China', 'Taiwan', 'Panama', 'Philippines',\n",
       "       'Belgium', 'Thailand', 'China', 'Tanzania', 'Zambia',\n",
       "       'United Kingdom', ' Germany', 'Malaysia', ' Philippines', ' Japan',\n",
       "       'Spain', ' Finland', 'Austria', ' Ecuador', 'Laos', 'Georgia'],\n",
       "      dtype=object)"
      ]
     },
     "execution_count": 69,
     "metadata": {},
     "output_type": "execute_result"
    }
   ],
   "source": [
    "loc_df['country'].unique()"
   ]
  },
  {
   "cell_type": "code",
   "execution_count": 85,
   "metadata": {},
   "outputs": [
    {
     "data": {
      "text/html": [
       "<div>\n",
       "<style scoped>\n",
       "    .dataframe tbody tr th:only-of-type {\n",
       "        vertical-align: middle;\n",
       "    }\n",
       "\n",
       "    .dataframe tbody tr th {\n",
       "        vertical-align: top;\n",
       "    }\n",
       "\n",
       "    .dataframe thead th {\n",
       "        text-align: right;\n",
       "    }\n",
       "</style>\n",
       "<table border=\"1\" class=\"dataframe\">\n",
       "  <thead>\n",
       "    <tr style=\"text-align: right;\">\n",
       "      <th></th>\n",
       "      <th>country</th>\n",
       "      <th>cardiff_label</th>\n",
       "      <th>count</th>\n",
       "    </tr>\n",
       "  </thead>\n",
       "  <tbody>\n",
       "    <tr>\n",
       "      <th>0</th>\n",
       "      <td>Australia</td>\n",
       "      <td>0</td>\n",
       "      <td>2</td>\n",
       "    </tr>\n",
       "    <tr>\n",
       "      <th>1</th>\n",
       "      <td>Australia</td>\n",
       "      <td>1</td>\n",
       "      <td>5</td>\n",
       "    </tr>\n",
       "    <tr>\n",
       "      <th>2</th>\n",
       "      <td>Australia</td>\n",
       "      <td>2</td>\n",
       "      <td>1</td>\n",
       "    </tr>\n",
       "    <tr>\n",
       "      <th>3</th>\n",
       "      <td>Canada</td>\n",
       "      <td>0</td>\n",
       "      <td>2</td>\n",
       "    </tr>\n",
       "    <tr>\n",
       "      <th>4</th>\n",
       "      <td>Canada</td>\n",
       "      <td>1</td>\n",
       "      <td>4</td>\n",
       "    </tr>\n",
       "    <tr>\n",
       "      <th>...</th>\n",
       "      <td>...</td>\n",
       "      <td>...</td>\n",
       "      <td>...</td>\n",
       "    </tr>\n",
       "    <tr>\n",
       "      <th>81</th>\n",
       "      <td>United Kingdom</td>\n",
       "      <td>2</td>\n",
       "      <td>1</td>\n",
       "    </tr>\n",
       "    <tr>\n",
       "      <th>82</th>\n",
       "      <td>United States</td>\n",
       "      <td>0</td>\n",
       "      <td>14</td>\n",
       "    </tr>\n",
       "    <tr>\n",
       "      <th>83</th>\n",
       "      <td>United States</td>\n",
       "      <td>1</td>\n",
       "      <td>30</td>\n",
       "    </tr>\n",
       "    <tr>\n",
       "      <th>84</th>\n",
       "      <td>United States</td>\n",
       "      <td>2</td>\n",
       "      <td>4</td>\n",
       "    </tr>\n",
       "    <tr>\n",
       "      <th>85</th>\n",
       "      <td>Zambia</td>\n",
       "      <td>0</td>\n",
       "      <td>1</td>\n",
       "    </tr>\n",
       "  </tbody>\n",
       "</table>\n",
       "<p>86 rows × 3 columns</p>\n",
       "</div>"
      ],
      "text/plain": [
       "           country  cardiff_label  count\n",
       "0        Australia              0      2\n",
       "1        Australia              1      5\n",
       "2        Australia              2      1\n",
       "3           Canada              0      2\n",
       "4           Canada              1      4\n",
       "..             ...            ...    ...\n",
       "81  United Kingdom              2      1\n",
       "82   United States              0     14\n",
       "83   United States              1     30\n",
       "84   United States              2      4\n",
       "85          Zambia              0      1\n",
       "\n",
       "[86 rows x 3 columns]"
      ]
     },
     "execution_count": 85,
     "metadata": {},
     "output_type": "execute_result"
    }
   ],
   "source": [
    "result = loc_df.groupby(['country','cardiff_label']).size().reset_index(name='count') \n",
    "result"
   ]
  }
 ],
 "metadata": {
  "interpreter": {
   "hash": "5293abac2c05b57ad09faa0d155bb8d36196e3483975bce2a8b7cc3f2144b757"
  },
  "kernelspec": {
   "display_name": "Python 3.7.11 ('base')",
   "language": "python",
   "name": "python3"
  },
  "language_info": {
   "codemirror_mode": {
    "name": "ipython",
    "version": 3
   },
   "file_extension": ".py",
   "mimetype": "text/x-python",
   "name": "python",
   "nbconvert_exporter": "python",
   "pygments_lexer": "ipython3",
   "version": "3.7.11"
  },
  "orig_nbformat": 4
 },
 "nbformat": 4,
 "nbformat_minor": 2
}
