{
 "cells": [
  {
   "cell_type": "code",
   "execution_count": 2,
   "metadata": {},
   "outputs": [],
   "source": [
    "import pandas as pd\n",
    "import re\n",
    "from nltk.corpus import stopwords\n",
    "from nltk.tokenize import word_tokenize\n",
    "import html\n",
    "import numpy as np"
   ]
  },
  {
   "cell_type": "code",
   "execution_count": 5,
   "metadata": {},
   "outputs": [
    {
     "name": "stdout",
     "output_type": "stream",
     "text": [
      "145\n"
     ]
    },
    {
     "data": {
      "text/html": [
       "<div>\n",
       "<style scoped>\n",
       "    .dataframe tbody tr th:only-of-type {\n",
       "        vertical-align: middle;\n",
       "    }\n",
       "\n",
       "    .dataframe tbody tr th {\n",
       "        vertical-align: top;\n",
       "    }\n",
       "\n",
       "    .dataframe thead th {\n",
       "        text-align: right;\n",
       "    }\n",
       "</style>\n",
       "<table border=\"1\" class=\"dataframe\">\n",
       "  <thead>\n",
       "    <tr style=\"text-align: right;\">\n",
       "      <th></th>\n",
       "      <th>Unnamed: 0</th>\n",
       "      <th>tweetId</th>\n",
       "      <th>author_id_x</th>\n",
       "      <th>tweet</th>\n",
       "      <th>lang</th>\n",
       "      <th>created_at</th>\n",
       "      <th>topic_id</th>\n",
       "      <th>author_id_y</th>\n",
       "      <th>user_loc</th>\n",
       "    </tr>\n",
       "  </thead>\n",
       "  <tbody>\n",
       "    <tr>\n",
       "      <th>0</th>\n",
       "      <td>0</td>\n",
       "      <td>1507507503336108032</td>\n",
       "      <td>2334273306</td>\n",
       "      <td>Now That EVERYBODY Knows It, DC Finally Admits...</td>\n",
       "      <td>en</td>\n",
       "      <td>2022-03-25 23:59:31+00:00</td>\n",
       "      <td>633a60c58bc43c68579e</td>\n",
       "      <td>2334273306</td>\n",
       "      <td>NaN</td>\n",
       "    </tr>\n",
       "    <tr>\n",
       "      <th>1</th>\n",
       "      <td>1</td>\n",
       "      <td>1507507067577270272</td>\n",
       "      <td>826896534029479936</td>\n",
       "      <td>@RealOilRspctr @SeedOilDsrspctr I just saw thi...</td>\n",
       "      <td>en</td>\n",
       "      <td>2022-03-25 23:57:47+00:00</td>\n",
       "      <td>633a60c58bc43c68579e</td>\n",
       "      <td>826896534029479936</td>\n",
       "      <td>Whidbey Island, WA</td>\n",
       "    </tr>\n",
       "    <tr>\n",
       "      <th>2</th>\n",
       "      <td>2</td>\n",
       "      <td>1507505687911407616</td>\n",
       "      <td>631300815</td>\n",
       "      <td>Chicken Avon Analyst cross-platform Steel Spec...</td>\n",
       "      <td>en</td>\n",
       "      <td>2022-03-25 23:52:18+00:00</td>\n",
       "      <td>633a60c58bc43c68579e</td>\n",
       "      <td>631300815</td>\n",
       "      <td>Pontianak</td>\n",
       "    </tr>\n",
       "    <tr>\n",
       "      <th>3</th>\n",
       "      <td>3</td>\n",
       "      <td>1507503843101224962</td>\n",
       "      <td>815838530836500480</td>\n",
       "      <td>One teaspoon of soil contains more living orga...</td>\n",
       "      <td>en</td>\n",
       "      <td>2022-03-25 23:44:58+00:00</td>\n",
       "      <td>633a60c58bc43c68579e</td>\n",
       "      <td>815838530836500480</td>\n",
       "      <td>Coimbatore,tamilnadu,India</td>\n",
       "    </tr>\n",
       "    <tr>\n",
       "      <th>4</th>\n",
       "      <td>4</td>\n",
       "      <td>1507503584568840194</td>\n",
       "      <td>944520146411962368</td>\n",
       "      <td>So what was their marketing strategy? Genetica...</td>\n",
       "      <td>en</td>\n",
       "      <td>2022-03-25 23:43:57+00:00</td>\n",
       "      <td>633a60c58bc43c68579e</td>\n",
       "      <td>944520146411962368</td>\n",
       "      <td>The Blue Marble</td>\n",
       "    </tr>\n",
       "  </tbody>\n",
       "</table>\n",
       "</div>"
      ],
      "text/plain": [
       "   Unnamed: 0              tweetId         author_id_x  \\\n",
       "0           0  1507507503336108032          2334273306   \n",
       "1           1  1507507067577270272  826896534029479936   \n",
       "2           2  1507505687911407616           631300815   \n",
       "3           3  1507503843101224962  815838530836500480   \n",
       "4           4  1507503584568840194  944520146411962368   \n",
       "\n",
       "                                               tweet lang  \\\n",
       "0  Now That EVERYBODY Knows It, DC Finally Admits...   en   \n",
       "1  @RealOilRspctr @SeedOilDsrspctr I just saw thi...   en   \n",
       "2  Chicken Avon Analyst cross-platform Steel Spec...   en   \n",
       "3  One teaspoon of soil contains more living orga...   en   \n",
       "4  So what was their marketing strategy? Genetica...   en   \n",
       "\n",
       "                  created_at              topic_id         author_id_y  \\\n",
       "0  2022-03-25 23:59:31+00:00  633a60c58bc43c68579e          2334273306   \n",
       "1  2022-03-25 23:57:47+00:00  633a60c58bc43c68579e  826896534029479936   \n",
       "2  2022-03-25 23:52:18+00:00  633a60c58bc43c68579e           631300815   \n",
       "3  2022-03-25 23:44:58+00:00  633a60c58bc43c68579e  815838530836500480   \n",
       "4  2022-03-25 23:43:57+00:00  633a60c58bc43c68579e  944520146411962368   \n",
       "\n",
       "                     user_loc  \n",
       "0                         NaN  \n",
       "1          Whidbey Island, WA  \n",
       "2                   Pontianak  \n",
       "3  Coimbatore,tamilnadu,India  \n",
       "4             The Blue Marble  "
      ]
     },
     "execution_count": 5,
     "metadata": {},
     "output_type": "execute_result"
    }
   ],
   "source": [
    "df = pd.read_csv('../data_collecting/output/organicfood_withLoc.csv', lineterminator='\\n')\n",
    "print(len(df))\n",
    "df.head()"
   ]
  },
  {
   "cell_type": "code",
   "execution_count": 6,
   "metadata": {},
   "outputs": [
    {
     "data": {
      "text/plain": [
       "array(['en', 'de', 'es'], dtype=object)"
      ]
     },
     "execution_count": 6,
     "metadata": {},
     "output_type": "execute_result"
    }
   ],
   "source": [
    "df['lang'].unique()"
   ]
  }
 ],
 "metadata": {
  "interpreter": {
   "hash": "5293abac2c05b57ad09faa0d155bb8d36196e3483975bce2a8b7cc3f2144b757"
  },
  "kernelspec": {
   "display_name": "Python 3.7.11 ('base')",
   "language": "python",
   "name": "python3"
  },
  "language_info": {
   "codemirror_mode": {
    "name": "ipython",
    "version": 3
   },
   "file_extension": ".py",
   "mimetype": "text/x-python",
   "name": "python",
   "nbconvert_exporter": "python",
   "pygments_lexer": "ipython3",
   "version": "3.7.11"
  },
  "orig_nbformat": 4
 },
 "nbformat": 4,
 "nbformat_minor": 2
}
